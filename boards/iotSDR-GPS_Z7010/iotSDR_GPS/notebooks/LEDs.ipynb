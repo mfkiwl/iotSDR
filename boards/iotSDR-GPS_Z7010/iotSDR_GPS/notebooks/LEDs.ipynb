{
 "cells": [
  {
   "cell_type": "code",
   "execution_count": 1,
   "metadata": {},
   "outputs": [
    {
     "data": {
      "application/javascript": [
       "\n",
       "try {\n",
       "require(['notebook/js/codecell'], function(codecell) {\n",
       "  codecell.CodeCell.options_default.highlight_modes[\n",
       "      'magic_text/x-csrc'] = {'reg':[/^%%microblaze/]};\n",
       "  Jupyter.notebook.events.one('kernel_ready.Kernel', function(){\n",
       "      Jupyter.notebook.get_cells().map(function(cell){\n",
       "          if (cell.cell_type == 'code'){ cell.auto_highlight(); } }) ;\n",
       "  });\n",
       "});\n",
       "} catch (e) {};\n"
      ]
     },
     "metadata": {},
     "output_type": "display_data"
    },
    {
     "data": {
      "application/javascript": [
       "\n",
       "try {\n",
       "require(['notebook/js/codecell'], function(codecell) {\n",
       "  codecell.CodeCell.options_default.highlight_modes[\n",
       "      'magic_text/x-csrc'] = {'reg':[/^%%pybind11/]};\n",
       "  Jupyter.notebook.events.one('kernel_ready.Kernel', function(){\n",
       "      Jupyter.notebook.get_cells().map(function(cell){\n",
       "          if (cell.cell_type == 'code'){ cell.auto_highlight(); } }) ;\n",
       "  });\n",
       "});\n",
       "} catch (e) {};\n"
      ]
     },
     "metadata": {},
     "output_type": "display_data"
    }
   ],
   "source": [
    "import time\n",
    "from pynq import MMIO\n",
    "from pynq import Overlay\n",
    "\n",
    "LED_GPIO_ADDRESS    = 0x41200000\n",
    "SAMPLES_BLK_ADDRESS = 0x41210000\n",
    "ADDRESS_RANGE = 0x1000\n",
    "ADDRESS_OFFSET = 0x00"
   ]
  },
  {
   "cell_type": "code",
   "execution_count": 2,
   "metadata": {},
   "outputs": [
    {
     "name": "stdout",
     "output_type": "stream",
     "text": [
      ". . . . . . . . . . Done\n"
     ]
    }
   ],
   "source": [
    "\n",
    "\n",
    "LEDs = MMIO(LED_GPIO_ADDRESS, ADDRESS_RANGE)\n",
    "\n",
    "for i in range(10):\n",
    "    LEDs.write(ADDRESS_OFFSET, 0xA)\n",
    "    time.sleep(0.5)\n",
    "    LEDs.write(ADDRESS_OFFSET, 0x5)\n",
    "    time.sleep(0.5)\n",
    "    print('.', end=' ')\n",
    "\n",
    "print('Done')"
   ]
  },
  {
   "cell_type": "code",
   "execution_count": null,
   "metadata": {},
   "outputs": [],
   "source": [
    "def tally():\n",
    "\n",
    "    while True:\n",
    "        for i in range(4):\n",
    "            reg = (0x1 << i)\n",
    "            LEDs.write(0, ~reg)\n",
    "            time.sleep(0.2)\n",
    "\n",
    "tally()           "
   ]
  },
  {
   "cell_type": "code",
   "execution_count": null,
   "metadata": {},
   "outputs": [],
   "source": []
  }
 ],
 "metadata": {
  "kernelspec": {
   "display_name": "Python 3",
   "language": "python",
   "name": "python3"
  },
  "language_info": {
   "codemirror_mode": {
    "name": "ipython",
    "version": 3
   },
   "file_extension": ".py",
   "mimetype": "text/x-python",
   "name": "python",
   "nbconvert_exporter": "python",
   "pygments_lexer": "ipython3",
   "version": "3.6.5"
  }
 },
 "nbformat": 4,
 "nbformat_minor": 4
}
