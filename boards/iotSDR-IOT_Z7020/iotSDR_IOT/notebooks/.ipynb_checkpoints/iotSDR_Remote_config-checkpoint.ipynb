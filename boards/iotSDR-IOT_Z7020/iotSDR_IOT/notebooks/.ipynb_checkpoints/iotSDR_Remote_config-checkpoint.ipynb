{
 "cells": [
  {
   "cell_type": "code",
   "execution_count": 10,
   "metadata": {},
   "outputs": [
    {
     "ename": "ModuleNotFoundError",
     "evalue": "No module named 'iotSDR_Device'",
     "output_type": "error",
     "traceback": [
      "\u001b[0;31m---------------------------------------------------------------------------\u001b[0m",
      "\u001b[0;31mModuleNotFoundError\u001b[0m                       Traceback (most recent call last)",
      "\u001b[0;32m<ipython-input-10-8899c04ae341>\u001b[0m in \u001b[0;36m<module>\u001b[0;34m\u001b[0m\n\u001b[1;32m      2\u001b[0m \u001b[0msys\u001b[0m\u001b[0;34m.\u001b[0m\u001b[0mpath\u001b[0m\u001b[0;34m.\u001b[0m\u001b[0minsert\u001b[0m\u001b[0;34m(\u001b[0m\u001b[0;36m0\u001b[0m\u001b[0;34m,\u001b[0m \u001b[0mos\u001b[0m\u001b[0;34m.\u001b[0m\u001b[0mpath\u001b[0m\u001b[0;34m.\u001b[0m\u001b[0mabspath\u001b[0m\u001b[0;34m(\u001b[0m\u001b[0;34m\"..\"\u001b[0m\u001b[0;34m)\u001b[0m\u001b[0;34m)\u001b[0m\u001b[0;34m\u001b[0m\u001b[0m\n\u001b[1;32m      3\u001b[0m \u001b[0;34m\u001b[0m\u001b[0m\n\u001b[0;32m----> 4\u001b[0;31m \u001b[0;32mimport\u001b[0m \u001b[0miotSDR_Device\u001b[0m \u001b[0;31m#iotSDR_Remote as remote\u001b[0m\u001b[0;34m\u001b[0m\u001b[0m\n\u001b[0m\u001b[1;32m      5\u001b[0m \u001b[0;31m#from iotSDR_Device import * #iotSDR_Remote as remote\u001b[0m\u001b[0;34m\u001b[0m\u001b[0;34m\u001b[0m\u001b[0m\n\u001b[1;32m      6\u001b[0m \u001b[0miotSDR\u001b[0m \u001b[0;34m=\u001b[0m \u001b[0miotSDR_Device\u001b[0m\u001b[0;34m.\u001b[0m\u001b[0miotSDR\u001b[0m\u001b[0;34m(\u001b[0m\u001b[0;34m)\u001b[0m\u001b[0;34m\u001b[0m\u001b[0m\n",
      "\u001b[0;31mModuleNotFoundError\u001b[0m: No module named 'iotSDR_Device'"
     ]
    }
   ],
   "source": [
    "from iotSDR_lib import iotSDR_Device #iotSDR_Remote as remote\n",
    "#from iotSDR_Device import * #iotSDR_Remote as remote\n",
    "iotSDR = iotSDR_Device.iotSDR()\n",
    "#iotSDR.connect(\"localhost:50051\")\n",
    "#status = iotSDR.connect(\"192.168.2.99:50051\")\n"
   ]
  },
  {
   "cell_type": "code",
   "execution_count": 2,
   "metadata": {},
   "outputs": [
    {
     "name": "stdout",
     "output_type": "stream",
     "text": [
      "iotSDR Frequency updated:  0.0\n",
      "iotSDR Tuned at Frequency:  0.0\n",
      "iotSDR Frequency list:  [ranges {\n",
      "  band: 1\n",
      "  min_freq: 389500000.0\n",
      "  max_freq: 510000000.0\n",
      "}\n",
      ", ranges {\n",
      "  band: 2\n",
      "  min_freq: 779000000.0\n",
      "  max_freq: 1020000000.0\n",
      "}\n",
      "]\n"
     ]
    }
   ],
   "source": [
    "channel = 0\n",
    "freq    = 300e6\n",
    "iotSDR.setFrequency(channel,freq)\n",
    "iotSDR.getFrequency(channel)\n",
    "ranges = iotSDR.listFrequencies(channel)\n",
    "\n"
   ]
  },
  {
   "cell_type": "code",
   "execution_count": 48,
   "metadata": {},
   "outputs": [
    {
     "name": "stdout",
     "output_type": "stream",
     "text": [
      "iotSDR Sampling Rate updated:  2000000\n",
      "iotSDR Sampling rate get response:  2000000\n",
      "iotSDR Supported Rates: [4000000.0, 2000000.0, 1333333.375, 1000000.0, 800000.0, 666666.6875, 500000.0, 400000.0]\n"
     ]
    },
    {
     "data": {
      "text/plain": [
       "[4000000.0,\n",
       " 2000000.0,\n",
       " 1333333.375,\n",
       " 1000000.0,\n",
       " 800000.0,\n",
       " 666666.6875,\n",
       " 500000.0,\n",
       " 400000.0]"
      ]
     },
     "execution_count": 48,
     "metadata": {},
     "output_type": "execute_result"
    }
   ],
   "source": [
    "rate = 2e6\n",
    "iotSDR.setSampleRate(0,channel,rate)\n",
    "iotSDR.getSampleRate(channel)\n",
    "iotSDR.listSampleRates(channel)"
   ]
  },
  {
   "cell_type": "code",
   "execution_count": 49,
   "metadata": {},
   "outputs": [
    {
     "name": "stdout",
     "output_type": "stream",
     "text": [
      "iotSDR Transmitter Gain set: 23\n",
      "iotSDR Transmitter Gain get: 31\n",
      "iotSDR Transmitter Gain Range: 0 31\n"
     ]
    },
    {
     "data": {
      "text/plain": [
       "(0, 31)"
      ]
     },
     "execution_count": 49,
     "metadata": {},
     "output_type": "execute_result"
    }
   ],
   "source": [
    "tx_gain = 25\n",
    "iotSDR.setGain(channel,tx_gain)\n",
    "iotSDR.getGain(channel)\n",
    "iotSDR.getGainRange(channel)"
   ]
  },
  {
   "cell_type": "code",
   "execution_count": 50,
   "metadata": {},
   "outputs": [
    {
     "name": "stdout",
     "output_type": "stream",
     "text": [
      "iotSDR Transmitter LUT Buffer set: 1\n"
     ]
    },
    {
     "data": {
      "text/plain": [
       "1"
      ]
     },
     "execution_count": 50,
     "metadata": {},
     "output_type": "execute_result"
    }
   ],
   "source": [
    "import numpy as np\n",
    "import time\n",
    "# Update TX LUT\n",
    "f = 12 #Hz\n",
    "N = 1024\n",
    "\n",
    "t = np.linspace(0, 1, N,endpoint=False)\n",
    "real = (np.cos(2*np.pi*f*t))*(2**15 - 1)\n",
    "imag = (np.sin(2*np.pi*f*t))*(2**15 - 1)\n",
    "\n",
    "real = real.astype(np.int16)\n",
    "imag = imag.astype(np.int16)\n",
    "\n",
    "IQsamples = np.array([0]*1024,dtype=complex)\n",
    "IQsamples.real = real\n",
    "IQsamples.imag = imag\n",
    "\n",
    "iotSDR.setTxLUT(channel,IQsamples)\n"
   ]
  },
  {
   "cell_type": "code",
   "execution_count": 62,
   "metadata": {
    "tags": [
     "outputPrepend"
    ]
   },
   "outputs": [
    {
     "name": "stdout",
     "output_type": "stream",
     "text": [
      "2000 2000.0 0.6298340000000024\n"
     ]
    }
   ],
   "source": [
    "import time\n",
    "\n",
    "count = 0\n",
    "totallen = 0\n",
    "tic = time.clock()\n",
    "\n",
    "samplesPerFrame = 2*4*1024\n",
    "numOfFrames = 2000\n",
    "\n",
    "for frame in (iotSDR.readStream(channel,numOfFrames)):\n",
    "    totallen += len(frame.frame)\n",
    "    #frame = next(iotSDR.readStream(channel))\n",
    "    #print(frame)\n",
    "    count +=1\n",
    "    \n",
    "\n",
    "toc = time.clock()\n",
    "print(count,totallen/samplesPerFrame,toc-tic)    "
   ]
  },
  {
   "cell_type": "code",
   "execution_count": 41,
   "metadata": {},
   "outputs": [
    {
     "data": {
      "text/plain": [
       "1953.125"
      ]
     },
     "execution_count": 41,
     "metadata": {},
     "output_type": "execute_result"
    }
   ],
   "source": [
    "samplePerSec   = 4e6\n",
    "samplePerFrame = 2*1024\n",
    "framesPerSec   = samplePerSec/samplePerFrame\n",
    "framesPerSec"
   ]
  },
  {
   "cell_type": "code",
   "execution_count": null,
   "metadata": {},
   "outputs": [],
   "source": []
  }
 ],
 "metadata": {
  "kernelspec": {
   "display_name": "Python 3",
   "language": "python",
   "name": "python3"
  },
  "language_info": {
   "codemirror_mode": {
    "name": "ipython",
    "version": 3
   },
   "file_extension": ".py",
   "mimetype": "text/x-python",
   "name": "python",
   "nbconvert_exporter": "python",
   "pygments_lexer": "ipython3",
   "version": "3.6.5"
  }
 },
 "nbformat": 4,
 "nbformat_minor": 4
}
