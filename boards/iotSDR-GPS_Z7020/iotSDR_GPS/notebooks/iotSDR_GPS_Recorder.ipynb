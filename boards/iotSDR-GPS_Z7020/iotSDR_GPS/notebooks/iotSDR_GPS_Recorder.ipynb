{
 "cells": [
  {
   "cell_type": "markdown",
   "metadata": {},
   "source": [
    "# iotSDR GNSS Recorder Notebook:\n"
   ]
  },
  {
   "cell_type": "markdown",
   "metadata": {},
   "source": [
    "## Setting up the environment:\n",
    "\n",
    "* import required python modules\n",
    "\n"
   ]
  },
  {
   "cell_type": "code",
   "execution_count": 1,
   "metadata": {},
   "outputs": [
    {
     "data": {
      "application/javascript": [
       "\n",
       "try {\n",
       "require(['notebook/js/codecell'], function(codecell) {\n",
       "  codecell.CodeCell.options_default.highlight_modes[\n",
       "      'magic_text/x-csrc'] = {'reg':[/^%%microblaze/]};\n",
       "  Jupyter.notebook.events.one('kernel_ready.Kernel', function(){\n",
       "      Jupyter.notebook.get_cells().map(function(cell){\n",
       "          if (cell.cell_type == 'code'){ cell.auto_highlight(); } }) ;\n",
       "  });\n",
       "});\n",
       "} catch (e) {};\n"
      ]
     },
     "metadata": {},
     "output_type": "display_data"
    },
    {
     "data": {
      "application/javascript": [
       "\n",
       "try {\n",
       "require(['notebook/js/codecell'], function(codecell) {\n",
       "  codecell.CodeCell.options_default.highlight_modes[\n",
       "      'magic_text/x-csrc'] = {'reg':[/^%%pybind11/]};\n",
       "  Jupyter.notebook.events.one('kernel_ready.Kernel', function(){\n",
       "      Jupyter.notebook.get_cells().map(function(cell){\n",
       "          if (cell.cell_type == 'code'){ cell.auto_highlight(); } }) ;\n",
       "  });\n",
       "});\n",
       "} catch (e) {};\n"
      ]
     },
     "metadata": {},
     "output_type": "display_data"
    }
   ],
   "source": [
    "from pynq import Overlay\n",
    "import iotSDR.iotSDR_GPS_streamer as iotSDR_GPS_streamer\n",
    "import iotSDR.max2769_driver as max2769_driver\n",
    "import time\n",
    "import os"
   ]
  },
  {
   "cell_type": "code",
   "execution_count": 2,
   "metadata": {},
   "outputs": [],
   "source": [
    "recording_file = \"/home/xilinx/jupyter_notebooks/iotSDR-GPS/raw_smples_10.bin\"\n",
    "recording_time = 3 #time for recording in seconds\n",
    "wordsPerBlk    = 4*1024"
   ]
  },
  {
   "cell_type": "code",
   "execution_count": 3,
   "metadata": {},
   "outputs": [],
   "source": [
    "overlay = Overlay('../bitstream/iotSDR_GPS.bit', download=True)\n",
    "if not overlay.is_loaded():\n",
    "    overlay.download()\n",
    "    print(\"Bitfile now Loaded\")\n",
    "#overlay.ip_dict\n"
   ]
  },
  {
   "cell_type": "code",
   "execution_count": 4,
   "metadata": {},
   "outputs": [
    {
     "name": "stdout",
     "output_type": "stream",
     "text": [
      "GPS chip is configured for IF=0MHz @ 4.096MSPS\n"
     ]
    }
   ],
   "source": [
    "gps_chip = max2769_driver.MAX2769()\n",
    "#gps_chip.gps_4096IF_config()  #16.368MSPS\n"
   ]
  },
  {
   "cell_type": "code",
   "execution_count": 5,
   "metadata": {},
   "outputs": [
    {
     "name": "stdout",
     "output_type": "stream",
     "text": [
      "Recording started\n",
      "Recording stoped 379\n",
      "File writing Complete 379\n",
      "streaming Stop\n"
     ]
    }
   ],
   "source": [
    "gps_recorder = iotSDR_GPS_streamer.GPS_RX_Streaming(wordsPerBlk,overlay=overlay)\n",
    "\n",
    "time.sleep(3) #wait for ila\n",
    "\n",
    "gps_recorder.start_fetching(recording_file,recording_time)"
   ]
  },
  {
   "cell_type": "code",
   "execution_count": 6,
   "metadata": {},
   "outputs": [
    {
     "name": "stdout",
     "output_type": "stream",
     "text": [
      "Approx file size  : 6.144 MB\n",
      "Actual file size  : 6.209536 MB\n"
     ]
    }
   ],
   "source": [
    "bitsPerSample = 4\n",
    "samplingRate  = 4096000#*4\n",
    "bitsPerblk    = gps_recorder.blk_count*32\n",
    "\n",
    "totalBytes    = (samplingRate*recording_time*bitsPerSample)/8\n",
    "\n",
    "with open(recording_file,\"br\") as f:\n",
    "    data = f.read()\n",
    "    #print(data)\n",
    "    \n",
    "print(\"Approx file size  :\",totalBytes/1000000, \"MB\")\n",
    "print(\"Actual file size  :\",len(data)/1000000, \"MB\")"
   ]
  },
  {
   "cell_type": "code",
   "execution_count": null,
   "metadata": {},
   "outputs": [],
   "source": []
  }
 ],
 "metadata": {
  "kernelspec": {
   "display_name": "Python 3",
   "language": "python",
   "name": "python3"
  },
  "language_info": {
   "codemirror_mode": {
    "name": "ipython",
    "version": 3
   },
   "file_extension": ".py",
   "mimetype": "text/x-python",
   "name": "python",
   "nbconvert_exporter": "python",
   "pygments_lexer": "ipython3",
   "version": "3.6.5"
  }
 },
 "nbformat": 4,
 "nbformat_minor": 4
}
